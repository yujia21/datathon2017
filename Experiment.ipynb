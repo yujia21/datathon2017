{
 "cells": [
  {
   "cell_type": "code",
   "execution_count": 1,
   "metadata": {
    "collapsed": true
   },
   "outputs": [],
   "source": [
    "import numpy as np\n",
    "import pandas as pd\n",
    "%matplotlib notebook"
   ]
  },
  {
   "cell_type": "code",
   "execution_count": 2,
   "metadata": {
    "collapsed": true
   },
   "outputs": [],
   "source": [
    "n = str(2)\n",
    "fullDF = pd.read_csv(\"data/Chiller\"+n+\"_full.csv\")\n",
    "num_samples = fullDF.shape[0]\n",
    "window_size = 60"
   ]
  },
  {
   "cell_type": "code",
   "execution_count": 3,
   "metadata": {},
   "outputs": [
    {
     "data": {
      "text/html": [
       "<div>\n",
       "<style scoped>\n",
       "    .dataframe tbody tr th:only-of-type {\n",
       "        vertical-align: middle;\n",
       "    }\n",
       "\n",
       "    .dataframe tbody tr th {\n",
       "        vertical-align: top;\n",
       "    }\n",
       "\n",
       "    .dataframe thead th {\n",
       "        text-align: right;\n",
       "    }\n",
       "</style>\n",
       "<table border=\"1\" class=\"dataframe\">\n",
       "  <thead>\n",
       "    <tr style=\"text-align: right;\">\n",
       "      <th></th>\n",
       "      <th>ts</th>\n",
       "      <th>ch1Watt</th>\n",
       "      <th>ch2Watt</th>\n",
       "      <th>ch3Watt</th>\n",
       "      <th>value1</th>\n",
       "      <th>value2</th>\n",
       "      <th>value3</th>\n",
       "      <th>value4</th>\n",
       "      <th>conflowRate</th>\n",
       "      <th>conflowSpeed</th>\n",
       "      <th>evaflowRate</th>\n",
       "      <th>evaflowSpeed</th>\n",
       "    </tr>\n",
       "  </thead>\n",
       "  <tbody>\n",
       "    <tr>\n",
       "      <th>0</th>\n",
       "      <td>2017-05-01 00:00:00</td>\n",
       "      <td>325</td>\n",
       "      <td>0</td>\n",
       "      <td>324</td>\n",
       "      <td>18.580934</td>\n",
       "      <td>21.582337</td>\n",
       "      <td>23.633118</td>\n",
       "      <td>23.451539</td>\n",
       "      <td>0.0</td>\n",
       "      <td>0.0</td>\n",
       "      <td>0.0</td>\n",
       "      <td>0.0</td>\n",
       "    </tr>\n",
       "    <tr>\n",
       "      <th>1</th>\n",
       "      <td>2017-05-01 00:01:00</td>\n",
       "      <td>326</td>\n",
       "      <td>0</td>\n",
       "      <td>328</td>\n",
       "      <td>18.602295</td>\n",
       "      <td>21.539612</td>\n",
       "      <td>23.558351</td>\n",
       "      <td>23.398133</td>\n",
       "      <td>0.0</td>\n",
       "      <td>0.0</td>\n",
       "      <td>0.0</td>\n",
       "      <td>0.0</td>\n",
       "    </tr>\n",
       "    <tr>\n",
       "      <th>2</th>\n",
       "      <td>2017-05-01 00:02:00</td>\n",
       "      <td>327</td>\n",
       "      <td>0</td>\n",
       "      <td>324</td>\n",
       "      <td>18.495484</td>\n",
       "      <td>21.614379</td>\n",
       "      <td>23.483581</td>\n",
       "      <td>23.323363</td>\n",
       "      <td>0.0</td>\n",
       "      <td>0.0</td>\n",
       "      <td>0.0</td>\n",
       "      <td>0.0</td>\n",
       "    </tr>\n",
       "    <tr>\n",
       "      <th>3</th>\n",
       "      <td>2017-05-01 00:03:00</td>\n",
       "      <td>338</td>\n",
       "      <td>0</td>\n",
       "      <td>325</td>\n",
       "      <td>18.474123</td>\n",
       "      <td>21.571657</td>\n",
       "      <td>23.601076</td>\n",
       "      <td>23.205871</td>\n",
       "      <td>0.0</td>\n",
       "      <td>0.0</td>\n",
       "      <td>0.0</td>\n",
       "      <td>0.0</td>\n",
       "    </tr>\n",
       "    <tr>\n",
       "      <th>4</th>\n",
       "      <td>2017-05-01 00:04:00</td>\n",
       "      <td>334</td>\n",
       "      <td>0</td>\n",
       "      <td>328</td>\n",
       "      <td>18.559570</td>\n",
       "      <td>21.560973</td>\n",
       "      <td>23.536987</td>\n",
       "      <td>23.227236</td>\n",
       "      <td>0.0</td>\n",
       "      <td>0.0</td>\n",
       "      <td>0.0</td>\n",
       "      <td>0.0</td>\n",
       "    </tr>\n",
       "  </tbody>\n",
       "</table>\n",
       "</div>"
      ],
      "text/plain": [
       "                    ts  ch1Watt  ch2Watt  ch3Watt     value1     value2  \\\n",
       "0  2017-05-01 00:00:00      325        0      324  18.580934  21.582337   \n",
       "1  2017-05-01 00:01:00      326        0      328  18.602295  21.539612   \n",
       "2  2017-05-01 00:02:00      327        0      324  18.495484  21.614379   \n",
       "3  2017-05-01 00:03:00      338        0      325  18.474123  21.571657   \n",
       "4  2017-05-01 00:04:00      334        0      328  18.559570  21.560973   \n",
       "\n",
       "      value3     value4  conflowRate  conflowSpeed  evaflowRate  evaflowSpeed  \n",
       "0  23.633118  23.451539          0.0           0.0          0.0           0.0  \n",
       "1  23.558351  23.398133          0.0           0.0          0.0           0.0  \n",
       "2  23.483581  23.323363          0.0           0.0          0.0           0.0  \n",
       "3  23.601076  23.205871          0.0           0.0          0.0           0.0  \n",
       "4  23.536987  23.227236          0.0           0.0          0.0           0.0  "
      ]
     },
     "execution_count": 3,
     "metadata": {},
     "output_type": "execute_result"
    }
   ],
   "source": [
    "fullDF.head()"
   ]
  },
  {
   "cell_type": "code",
   "execution_count": 4,
   "metadata": {},
   "outputs": [],
   "source": [
    "Watt = fullDF[[\"ch1Watt\", \"ch2Watt\", \"ch3Watt\"]].as_matrix()\n",
    "Value = fullDF[[\"value1\", \"value2\", \"value3\", \"value4\"]].as_matrix()\n",
    "Conflow = fullDF[[\"conflowRate\", \"conflowSpeed\"]].as_matrix()\n",
    "Evaflow = fullDF[[\"evaflowRate\", \"evaflowSpeed\"]].as_matrix()\n",
    "Total_Watt = np.sum(Watt, axis = 1)"
   ]
  },
  {
   "cell_type": "code",
   "execution_count": 5,
   "metadata": {},
   "outputs": [],
   "source": [
    "from sklearn import preprocessing"
   ]
  },
  {
   "cell_type": "code",
   "execution_count": 6,
   "metadata": {},
   "outputs": [
    {
     "name": "stderr",
     "output_type": "stream",
     "text": [
      "/Users/duynguyen/anaconda/envs/python2/lib/python2.7/site-packages/sklearn/utils/validation.py:429: DataConversionWarning: Data with input dtype int64 was converted to float64 by the scale function.\n",
      "  warnings.warn(msg, _DataConversionWarning)\n"
     ]
    }
   ],
   "source": [
    "Watt_scaled = preprocessing.scale(Watt)\n",
    "Value_scaled = preprocessing.scale(Value)\n",
    "Conflow_scaled = preprocessing.scale(Conflow)\n",
    "Evaflow_scaled = preprocessing.scale(Evaflow)\n",
    "Total_Watt_scaled = preprocessing.scale(Total_Watt)"
   ]
  },
  {
   "cell_type": "code",
   "execution_count": 7,
   "metadata": {},
   "outputs": [],
   "source": [
    "Hour = pd.to_datetime(fullDF.ts).dt.hour.as_matrix()\n",
    "Hour_transformed = np.zeros([num_samples,24])\n",
    "for i in range(num_samples):\n",
    "    Hour_transformed[i, Hour[i]] = 1"
   ]
  },
  {
   "cell_type": "code",
   "execution_count": 8,
   "metadata": {},
   "outputs": [],
   "source": [
    "Day = pd.to_datetime(fullDF.ts).dt.day.as_matrix()\n",
    "Day_transformed = np.zeros([num_samples,31])\n",
    "for i in range(num_samples):\n",
    "    Day_transformed[i, Day[i] - 1] = 1"
   ]
  },
  {
   "cell_type": "code",
   "execution_count": 9,
   "metadata": {},
   "outputs": [],
   "source": [
    "Month = pd.to_datetime(fullDF.ts).dt.month.as_matrix()\n",
    "Month_transformed = np.zeros([num_samples,12])\n",
    "for i in range(num_samples):\n",
    "    Month_transformed[i, Month[i] - 1] = 1"
   ]
  },
  {
   "cell_type": "code",
   "execution_count": 14,
   "metadata": {},
   "outputs": [],
   "source": [
    "# Data = np.concatenate([Hour_transformed, Value_scaled, Conflow_scaled, Evaflow_scaled], axis =1)\n",
    "Data = np.concatenate([Value_scaled, Conflow_scaled, Evaflow_scaled], axis =1)"
   ]
  },
  {
   "cell_type": "code",
   "execution_count": 15,
   "metadata": {
    "collapsed": true
   },
   "outputs": [],
   "source": [
    "dimension = Data.shape[1]"
   ]
  },
  {
   "cell_type": "code",
   "execution_count": 16,
   "metadata": {},
   "outputs": [],
   "source": [
    "Data_align = np.zeros((window_size, num_samples - window_size + 1, dimension))\n",
    "for i in range(0, window_size):\n",
    "    Data_align[i] = Data[i: num_samples - window_size + 1 + i]"
   ]
  },
  {
   "cell_type": "code",
   "execution_count": 17,
   "metadata": {},
   "outputs": [],
   "source": [
    "Full_Data = Data_align.transpose((1,0,2))"
   ]
  },
  {
   "cell_type": "code",
   "execution_count": 18,
   "metadata": {},
   "outputs": [],
   "source": [
    "Power = Total_Watt[:num_samples - window_size + 1].reshape((-1,1))"
   ]
  },
  {
   "cell_type": "code",
   "execution_count": 27,
   "metadata": {},
   "outputs": [],
   "source": [
    "Moment = np.concatenate([np.zeros((1,1)),Power[1:] - Power[:-1]], axis = 0)"
   ]
  },
  {
   "cell_type": "code",
   "execution_count": 29,
   "metadata": {},
   "outputs": [],
   "source": [
    "Force = np.concatenate([np.zeros((1,1)),Moment[1:] - Moment[:-1]], axis = 0)"
   ]
  },
  {
   "cell_type": "code",
   "execution_count": 36,
   "metadata": {},
   "outputs": [
    {
     "name": "stderr",
     "output_type": "stream",
     "text": [
      "Using TensorFlow backend.\n"
     ]
    }
   ],
   "source": [
    "import keras\n",
    "from keras import layers\n",
    "from keras.layers import Lambda, Activation,recurrent, Bidirectional, Dense, Flatten, Conv1D, Dropout, LSTM, GRU, concatenate, multiply, add, Reshape, MaxPooling1D, BatchNormalization\n",
    "from keras.models import Model, load_model\n",
    "import keras.backend as K"
   ]
  },
  {
   "cell_type": "code",
   "execution_count": 79,
   "metadata": {},
   "outputs": [],
   "source": [
    "def mean_pred(y_true, y_pred):\n",
    "    return K.mean(K.abs(y_pred - y_true)/(y_true + 0.01))"
   ]
  },
  {
   "cell_type": "code",
   "execution_count": 80,
   "metadata": {},
   "outputs": [],
   "source": [
    "inp = layers.Input(shape=(window_size, dimension), dtype=Full_Data.dtype)"
   ]
  },
  {
   "cell_type": "code",
   "execution_count": 81,
   "metadata": {},
   "outputs": [],
   "source": [
    "flatten = Flatten()(inp)\n",
    "dense1 = Dense(500, activation='relu')(flatten)\n",
    "dense2 = Dense(500, activation='relu')(dense1)\n",
    "dense3 = Dense(500, activation='relu')(dense2)"
   ]
  },
  {
   "cell_type": "code",
   "execution_count": 82,
   "metadata": {
    "collapsed": true
   },
   "outputs": [],
   "source": [
    "output1 = Dense(1)(dense3)\n",
    "output2 = Dense(1)(dense3)\n",
    "output3 = Dense(1)(dense3)"
   ]
  },
  {
   "cell_type": "code",
   "execution_count": 86,
   "metadata": {},
   "outputs": [],
   "source": [
    "model = Model([inp],[output1,output2,output3])\n",
    "model.compile(optimizer='adam',\n",
    "              loss='mean_absolute_error', metrics=[mean_pred])"
   ]
  },
  {
   "cell_type": "code",
   "execution_count": 87,
   "metadata": {
    "collapsed": true
   },
   "outputs": [],
   "source": [
    "test_inp = Full_Data[:380000]\n",
    "test_out1 = Power[:380000]\n",
    "test_out2 = Moment[:380000]\n",
    "test_out3 = Force[:380000]\n",
    "val_inp = Full_Data[380000:]\n",
    "val_out1 = Power[380000:]\n",
    "val_out2 = Moment[380000:]\n",
    "val_out3 = Force[380000:]"
   ]
  },
  {
   "cell_type": "code",
   "execution_count": 88,
   "metadata": {},
   "outputs": [
    {
     "name": "stdout",
     "output_type": "stream",
     "text": [
      "Train on 380000 samples, validate on 50511 samples\n",
      "Epoch 1/5\n",
      "380000/380000 [==============================] - 189s - loss: 512553.0309 - dense_22_loss: 182295.8131 - dense_23_loss: 151287.8207 - dense_24_loss: 178969.3966 - dense_22_mean_pred: 9.9536 - dense_23_mean_pred: 9327553.6775 - dense_24_mean_pred: 10249595.9540 - val_loss: 1313.4491 - val_dense_22_loss: 453.4910 - val_dense_23_loss: 312.3053 - val_dense_24_loss: 547.6529 - val_dense_22_mean_pred: 0.0832 - val_dense_23_mean_pred: 79.0115 - val_dense_24_mean_pred: 107.7628\n",
      "Epoch 2/5\n",
      "380000/380000 [==============================] - 180s - loss: 5781.0792 - dense_22_loss: 3473.0483 - dense_23_loss: 887.7219 - dense_24_loss: 1420.3090 - dense_22_mean_pred: 0.5370 - dense_23_mean_pred: 7593.3147 - dense_24_mean_pred: 8290.9825 - val_loss: 1293.9322 - val_dense_22_loss: 430.9985 - val_dense_23_loss: 310.1828 - val_dense_24_loss: 552.7508 - val_dense_22_mean_pred: 0.0671 - val_dense_23_mean_pred: 116.0088 - val_dense_24_mean_pred: 277.6461\n",
      "Epoch 3/5\n",
      "380000/380000 [==============================] - 176s - loss: 5462.2135 - dense_22_loss: 3221.0548 - dense_23_loss: 856.7596 - dense_24_loss: 1384.3992 - dense_22_mean_pred: 0.5077 - dense_23_mean_pred: 4798.1046 - dense_24_mean_pred: 5102.1349 - val_loss: 1272.7035 - val_dense_22_loss: 408.8010 - val_dense_23_loss: 311.7736 - val_dense_24_loss: 552.1289 - val_dense_22_mean_pred: 0.0571 - val_dense_23_mean_pred: 199.0025 - val_dense_24_mean_pred: 250.7918\n",
      "Epoch 4/5\n",
      "380000/380000 [==============================] - 194s - loss: 5309.7191 - dense_22_loss: 3101.4187 - dense_23_loss: 840.3544 - dense_24_loss: 1367.9460 - dense_22_mean_pred: 0.4801 - dense_23_mean_pred: 3611.3137 - dense_24_mean_pred: 4029.4861 - val_loss: 1269.4032 - val_dense_22_loss: 410.0128 - val_dense_23_loss: 309.3266 - val_dense_24_loss: 550.0637 - val_dense_22_mean_pred: 0.0545 - val_dense_23_mean_pred: 102.2685 - val_dense_24_mean_pred: 198.3333\n",
      "Epoch 5/5\n",
      "380000/380000 [==============================] - 189s - loss: 5169.6270 - dense_22_loss: 2978.8838 - dense_23_loss: 831.9873 - dense_24_loss: 1358.7559 - dense_22_mean_pred: 0.4708 - dense_23_mean_pred: 3204.6717 - dense_24_mean_pred: 3459.8618 - val_loss: 1259.7291 - val_dense_22_loss: 403.4163 - val_dense_23_loss: 310.1136 - val_dense_24_loss: 546.1992 - val_dense_22_mean_pred: 0.0518 - val_dense_23_mean_pred: 57.2754 - val_dense_24_mean_pred: 32.9128\n"
     ]
    },
    {
     "data": {
      "text/plain": [
       "<keras.callbacks.History at 0x11a7d4c50>"
      ]
     },
     "execution_count": 88,
     "metadata": {},
     "output_type": "execute_result"
    }
   ],
   "source": [
    "model.fit([test_inp], [test_out1, test_out2, test_out3],\n",
    "          epochs=5,\n",
    "          validation_data=([val_inp], [val_out1,val_out2,val_out3]))"
   ]
  },
  {
   "cell_type": "code",
   "execution_count": 89,
   "metadata": {},
   "outputs": [
    {
     "name": "stdout",
     "output_type": "stream",
     "text": [
      "____________________________________________________________________________________________________\n",
      "Layer (type)                     Output Shape          Param #     Connected to                     \n",
      "====================================================================================================\n",
      "input_4 (InputLayer)             (None, 60, 8)         0                                            \n",
      "____________________________________________________________________________________________________\n",
      "flatten_4 (Flatten)              (None, 480)           0           input_4[0][0]                    \n",
      "____________________________________________________________________________________________________\n",
      "dense_19 (Dense)                 (None, 500)           240500      flatten_4[0][0]                  \n",
      "____________________________________________________________________________________________________\n",
      "dense_20 (Dense)                 (None, 500)           250500      dense_19[0][0]                   \n",
      "____________________________________________________________________________________________________\n",
      "dense_21 (Dense)                 (None, 500)           250500      dense_20[0][0]                   \n",
      "____________________________________________________________________________________________________\n",
      "dense_22 (Dense)                 (None, 1)             501         dense_21[0][0]                   \n",
      "____________________________________________________________________________________________________\n",
      "dense_23 (Dense)                 (None, 1)             501         dense_21[0][0]                   \n",
      "____________________________________________________________________________________________________\n",
      "dense_24 (Dense)                 (None, 1)             501         dense_21[0][0]                   \n",
      "====================================================================================================\n",
      "Total params: 743,003\n",
      "Trainable params: 743,003\n",
      "Non-trainable params: 0\n",
      "____________________________________________________________________________________________________\n"
     ]
    }
   ],
   "source": [
    "model.summary()"
   ]
  },
  {
   "cell_type": "code",
   "execution_count": 90,
   "metadata": {},
   "outputs": [
    {
     "name": "stdout",
     "output_type": "stream",
     "text": [
      "49856/50511 [============================>.] - ETA: 0s"
     ]
    }
   ],
   "source": [
    "pred = model.predict(val_inp, verbose=1)"
   ]
  },
  {
   "cell_type": "code",
   "execution_count": 91,
   "metadata": {},
   "outputs": [
    {
     "data": {
      "text/plain": [
       "[array([[ 662.85998535],\n",
       "        [ 662.8838501 ],\n",
       "        [ 663.18438721],\n",
       "        ..., \n",
       "        [ 652.06488037],\n",
       "        [ 651.63739014],\n",
       "        [ 651.55389404]], dtype=float32), array([[-0.41907763],\n",
       "        [-0.42519069],\n",
       "        [-0.43164992],\n",
       "        ..., \n",
       "        [-0.09275271],\n",
       "        [-0.08329464],\n",
       "        [-0.07088925]], dtype=float32), array([[-0.39362285],\n",
       "        [-0.4010348 ],\n",
       "        [-0.41020533],\n",
       "        ..., \n",
       "        [ 0.03292421],\n",
       "        [ 0.04360536],\n",
       "        [ 0.04971173]], dtype=float32)]"
      ]
     },
     "execution_count": 91,
     "metadata": {},
     "output_type": "execute_result"
    }
   ],
   "source": [
    "pred"
   ]
  },
  {
   "cell_type": "code",
   "execution_count": 92,
   "metadata": {},
   "outputs": [],
   "source": [
    "a = (pred[0] - val_out1)/val_out1"
   ]
  },
  {
   "cell_type": "code",
   "execution_count": 97,
   "metadata": {},
   "outputs": [],
   "source": [
    "b = a > 1"
   ]
  },
  {
   "cell_type": "code",
   "execution_count": 98,
   "metadata": {},
   "outputs": [
    {
     "data": {
      "text/plain": [
       "31"
      ]
     },
     "execution_count": 98,
     "metadata": {},
     "output_type": "execute_result"
    }
   ],
   "source": [
    "np.sum(b)"
   ]
  },
  {
   "cell_type": "code",
   "execution_count": 99,
   "metadata": {},
   "outputs": [
    {
     "data": {
      "text/plain": [
       "(430511, 60, 8)"
      ]
     },
     "execution_count": 99,
     "metadata": {},
     "output_type": "execute_result"
    }
   ],
   "source": [
    "Full_Data.shape"
   ]
  },
  {
   "cell_type": "code",
   "execution_count": null,
   "metadata": {
    "collapsed": true
   },
   "outputs": [],
   "source": []
  }
 ],
 "metadata": {
  "anaconda-cloud": {},
  "kernelspec": {
   "display_name": "Python 3",
   "language": "python",
   "name": "python3"
  },
  "language_info": {
   "codemirror_mode": {
    "name": "ipython",
    "version": 3
   },
   "file_extension": ".py",
   "mimetype": "text/x-python",
   "name": "python",
   "nbconvert_exporter": "python",
   "pygments_lexer": "ipython3",
   "version": "3.6.4"
  }
 },
 "nbformat": 4,
 "nbformat_minor": 1
}
