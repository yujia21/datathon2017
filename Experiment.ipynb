{
 "cells": [
  {
   "cell_type": "code",
   "execution_count": 1,
   "metadata": {
    "collapsed": true
   },
   "outputs": [],
   "source": [
    "import numpy as np\n",
    "import pandas as pd\n",
    "%matplotlib notebook"
   ]
  },
  {
   "cell_type": "code",
   "execution_count": 2,
   "metadata": {
    "collapsed": true
   },
   "outputs": [],
   "source": [
    "n = str(2)\n",
    "fullDF = pd.read_csv(\"data/Chiller\"+n+\"_full.csv\")\n",
    "num_samples = fullDF.shape[0]\n",
    "window_size = 60"
   ]
  },
  {
   "cell_type": "code",
   "execution_count": 3,
   "metadata": {
    "collapsed": false
   },
   "outputs": [
    {
     "data": {
      "text/html": [
       "<div>\n",
       "<style scoped>\n",
       "    .dataframe tbody tr th:only-of-type {\n",
       "        vertical-align: middle;\n",
       "    }\n",
       "\n",
       "    .dataframe tbody tr th {\n",
       "        vertical-align: top;\n",
       "    }\n",
       "\n",
       "    .dataframe thead th {\n",
       "        text-align: right;\n",
       "    }\n",
       "</style>\n",
       "<table border=\"1\" class=\"dataframe\">\n",
       "  <thead>\n",
       "    <tr style=\"text-align: right;\">\n",
       "      <th></th>\n",
       "      <th>ts</th>\n",
       "      <th>ch1Watt</th>\n",
       "      <th>ch2Watt</th>\n",
       "      <th>ch3Watt</th>\n",
       "      <th>value1</th>\n",
       "      <th>value2</th>\n",
       "      <th>value3</th>\n",
       "      <th>value4</th>\n",
       "      <th>conflowRate</th>\n",
       "      <th>conflowSpeed</th>\n",
       "      <th>evaflowRate</th>\n",
       "      <th>evaflowSpeed</th>\n",
       "    </tr>\n",
       "  </thead>\n",
       "  <tbody>\n",
       "    <tr>\n",
       "      <th>0</th>\n",
       "      <td>2017-05-01 00:00:00</td>\n",
       "      <td>325</td>\n",
       "      <td>0</td>\n",
       "      <td>324</td>\n",
       "      <td>18.580934</td>\n",
       "      <td>21.582337</td>\n",
       "      <td>23.633118</td>\n",
       "      <td>23.451539</td>\n",
       "      <td>0.0</td>\n",
       "      <td>0.0</td>\n",
       "      <td>0.0</td>\n",
       "      <td>0.0</td>\n",
       "    </tr>\n",
       "    <tr>\n",
       "      <th>1</th>\n",
       "      <td>2017-05-01 00:01:00</td>\n",
       "      <td>326</td>\n",
       "      <td>0</td>\n",
       "      <td>328</td>\n",
       "      <td>18.602295</td>\n",
       "      <td>21.539612</td>\n",
       "      <td>23.558351</td>\n",
       "      <td>23.398133</td>\n",
       "      <td>0.0</td>\n",
       "      <td>0.0</td>\n",
       "      <td>0.0</td>\n",
       "      <td>0.0</td>\n",
       "    </tr>\n",
       "    <tr>\n",
       "      <th>2</th>\n",
       "      <td>2017-05-01 00:02:00</td>\n",
       "      <td>327</td>\n",
       "      <td>0</td>\n",
       "      <td>324</td>\n",
       "      <td>18.495484</td>\n",
       "      <td>21.614379</td>\n",
       "      <td>23.483581</td>\n",
       "      <td>23.323363</td>\n",
       "      <td>0.0</td>\n",
       "      <td>0.0</td>\n",
       "      <td>0.0</td>\n",
       "      <td>0.0</td>\n",
       "    </tr>\n",
       "    <tr>\n",
       "      <th>3</th>\n",
       "      <td>2017-05-01 00:03:00</td>\n",
       "      <td>338</td>\n",
       "      <td>0</td>\n",
       "      <td>325</td>\n",
       "      <td>18.474123</td>\n",
       "      <td>21.571657</td>\n",
       "      <td>23.601076</td>\n",
       "      <td>23.205871</td>\n",
       "      <td>0.0</td>\n",
       "      <td>0.0</td>\n",
       "      <td>0.0</td>\n",
       "      <td>0.0</td>\n",
       "    </tr>\n",
       "    <tr>\n",
       "      <th>4</th>\n",
       "      <td>2017-05-01 00:04:00</td>\n",
       "      <td>334</td>\n",
       "      <td>0</td>\n",
       "      <td>328</td>\n",
       "      <td>18.559570</td>\n",
       "      <td>21.560973</td>\n",
       "      <td>23.536987</td>\n",
       "      <td>23.227236</td>\n",
       "      <td>0.0</td>\n",
       "      <td>0.0</td>\n",
       "      <td>0.0</td>\n",
       "      <td>0.0</td>\n",
       "    </tr>\n",
       "  </tbody>\n",
       "</table>\n",
       "</div>"
      ],
      "text/plain": [
       "                    ts  ch1Watt  ch2Watt  ch3Watt     value1     value2  \\\n",
       "0  2017-05-01 00:00:00      325        0      324  18.580934  21.582337   \n",
       "1  2017-05-01 00:01:00      326        0      328  18.602295  21.539612   \n",
       "2  2017-05-01 00:02:00      327        0      324  18.495484  21.614379   \n",
       "3  2017-05-01 00:03:00      338        0      325  18.474123  21.571657   \n",
       "4  2017-05-01 00:04:00      334        0      328  18.559570  21.560973   \n",
       "\n",
       "      value3     value4  conflowRate  conflowSpeed  evaflowRate  evaflowSpeed  \n",
       "0  23.633118  23.451539          0.0           0.0          0.0           0.0  \n",
       "1  23.558351  23.398133          0.0           0.0          0.0           0.0  \n",
       "2  23.483581  23.323363          0.0           0.0          0.0           0.0  \n",
       "3  23.601076  23.205871          0.0           0.0          0.0           0.0  \n",
       "4  23.536987  23.227236          0.0           0.0          0.0           0.0  "
      ]
     },
     "execution_count": 3,
     "metadata": {},
     "output_type": "execute_result"
    }
   ],
   "source": [
    "fullDF.head()"
   ]
  },
  {
   "cell_type": "code",
   "execution_count": 4,
   "metadata": {
    "collapsed": false
   },
   "outputs": [],
   "source": [
    "Watt = fullDF[[\"ch1Watt\", \"ch2Watt\", \"ch3Watt\"]].as_matrix()\n",
    "Value = fullDF[[\"value1\", \"value2\", \"value3\", \"value4\"]].as_matrix()\n",
    "Conflow = fullDF[[\"conflowRate\", \"conflowSpeed\"]].as_matrix()\n",
    "Evaflow = fullDF[[\"evaflowRate\", \"evaflowSpeed\"]].as_matrix()\n",
    "Total_Watt = np.sum(Watt, axis = 1)"
   ]
  },
  {
   "cell_type": "code",
   "execution_count": 5,
   "metadata": {
    "collapsed": false
   },
   "outputs": [],
   "source": [
    "from sklearn import preprocessing"
   ]
  },
  {
   "cell_type": "code",
   "execution_count": 6,
   "metadata": {
    "collapsed": false
   },
   "outputs": [
    {
     "name": "stderr",
     "output_type": "stream",
     "text": [
      "/Users/duynguyen/anaconda/envs/python2/lib/python2.7/site-packages/sklearn/utils/validation.py:429: DataConversionWarning: Data with input dtype int64 was converted to float64 by the scale function.\n",
      "  warnings.warn(msg, _DataConversionWarning)\n"
     ]
    }
   ],
   "source": [
    "Watt_scaled = preprocessing.scale(Watt)\n",
    "Value_scaled = preprocessing.scale(Value)\n",
    "Conflow_scaled = preprocessing.scale(Conflow)\n",
    "Evaflow_scaled = preprocessing.scale(Evaflow)\n",
    "Total_Watt_scaled = preprocessing.scale(Total_Watt)"
   ]
  },
  {
   "cell_type": "code",
   "execution_count": 7,
   "metadata": {
    "collapsed": false
   },
   "outputs": [],
   "source": [
    "Hour = pd.to_datetime(fullDF.ts).dt.hour.as_matrix()\n",
    "Hour_transformed = np.zeros([num_samples,24])\n",
    "for i in range(num_samples):\n",
    "    Hour_transformed[i, Hour[i]] = 1"
   ]
  },
  {
   "cell_type": "code",
   "execution_count": 8,
   "metadata": {
    "collapsed": false
   },
   "outputs": [],
   "source": [
    "Day = pd.to_datetime(fullDF.ts).dt.day.as_matrix()\n",
    "Day_transformed = np.zeros([num_samples,31])\n",
    "for i in range(num_samples):\n",
    "    Day_transformed[i, Day[i] - 1] = 1"
   ]
  },
  {
   "cell_type": "code",
   "execution_count": 9,
   "metadata": {
    "collapsed": false
   },
   "outputs": [],
   "source": [
    "Month = pd.to_datetime(fullDF.ts).dt.month.as_matrix()\n",
    "Month_transformed = np.zeros([num_samples,12])\n",
    "for i in range(num_samples):\n",
    "    Month_transformed[i, Month[i] - 1] = 1"
   ]
  },
  {
   "cell_type": "code",
   "execution_count": 160,
   "metadata": {
    "collapsed": false
   },
   "outputs": [],
   "source": [
    "Data = np.concatenate([Hour_transformed, Value_scaled, Conflow_scaled, Evaflow_scaled], axis =1)\n",
    "# Data = np.concatenate([Value_scaled, Conflow_scaled, Evaflow_scaled], axis =1)"
   ]
  },
  {
   "cell_type": "code",
   "execution_count": 161,
   "metadata": {
    "collapsed": true
   },
   "outputs": [],
   "source": [
    "dimension = Data.shape[1]"
   ]
  },
  {
   "cell_type": "code",
   "execution_count": 162,
   "metadata": {
    "collapsed": false
   },
   "outputs": [],
   "source": [
    "Data_align = np.zeros((window_size, num_samples - window_size + 1, dimension))\n",
    "for i in range(0, window_size):\n",
    "    Data_align[i] = Data[i: num_samples - window_size + 1 + i]"
   ]
  },
  {
   "cell_type": "code",
   "execution_count": 163,
   "metadata": {
    "collapsed": false
   },
   "outputs": [],
   "source": [
    "Full_Data = Data_align.transpose((1,0,2))"
   ]
  },
  {
   "cell_type": "code",
   "execution_count": 182,
   "metadata": {
    "collapsed": false
   },
   "outputs": [],
   "source": [
    "Power = Total_Watt[:num_samples - window_size + 1].reshape((-1,1))"
   ]
  },
  {
   "cell_type": "code",
   "execution_count": 183,
   "metadata": {
    "collapsed": false
   },
   "outputs": [],
   "source": [
    "import keras\n",
    "from keras import layers\n",
    "from keras.layers import Lambda, Activation,recurrent, Bidirectional, Dense, Flatten, Conv1D, Dropout, LSTM, GRU, concatenate, multiply, add, Reshape, MaxPooling1D, BatchNormalization\n",
    "from keras.models import Model, load_model\n",
    "import keras.backend as K"
   ]
  },
  {
   "cell_type": "code",
   "execution_count": 184,
   "metadata": {
    "collapsed": true
   },
   "outputs": [],
   "source": [
    "def mean_pred(y_true, y_pred):\n",
    "    return K.mean(K.abs(y_pred - y_true)/y_true)"
   ]
  },
  {
   "cell_type": "code",
   "execution_count": 185,
   "metadata": {
    "collapsed": false
   },
   "outputs": [],
   "source": [
    "inp = layers.Input(shape=(window_size, dimension), dtype=Full_Data.dtype)"
   ]
  },
  {
   "cell_type": "code",
   "execution_count": 186,
   "metadata": {
    "collapsed": false
   },
   "outputs": [],
   "source": [
    "flatten = Flatten()(inp)\n",
    "dense1 = Dense(500, activation='relu')(flatten)\n",
    "dense2 = Dense(500, activation='relu')(dense1)\n",
    "dense3 = Dense(500, activation='relu')(dense2)"
   ]
  },
  {
   "cell_type": "code",
   "execution_count": 187,
   "metadata": {
    "collapsed": true
   },
   "outputs": [],
   "source": [
    "output = Dense(1)(dense3)"
   ]
  },
  {
   "cell_type": "code",
   "execution_count": 188,
   "metadata": {
    "collapsed": false
   },
   "outputs": [],
   "source": [
    "model = Model(inp,output)\n",
    "model.compile(optimizer='rmsprop',\n",
    "              loss='mean_absolute_error',\n",
    "              metrics=[mean_pred])"
   ]
  },
  {
   "cell_type": "code",
   "execution_count": 189,
   "metadata": {
    "collapsed": true
   },
   "outputs": [],
   "source": [
    "test_inp = Full_Data[:40000]\n",
    "test_out = Power[:40000]\n",
    "val_inp = Full_Data[40000:45000]\n",
    "val_out = Power[40000:45000]"
   ]
  },
  {
   "cell_type": "code",
   "execution_count": null,
   "metadata": {
    "collapsed": false
   },
   "outputs": [
    {
     "name": "stdout",
     "output_type": "stream",
     "text": [
      "Train on 40000 samples, validate on 5000 samples\n",
      "Epoch 1/5\n",
      "10528/40000 [======>.......................] - ETA: 22s - loss: 8959.0550 - mean_pred: 0.7020"
     ]
    }
   ],
   "source": [
    "model.fit(test_inp, test_out,\n",
    "          epochs=5,\n",
    "          validation_data=(val_inp, val_out))"
   ]
  },
  {
   "cell_type": "code",
   "execution_count": 138,
   "metadata": {
    "collapsed": false
   },
   "outputs": [
    {
     "name": "stdout",
     "output_type": "stream",
     "text": [
      "_________________________________________________________________\n",
      "Layer (type)                 Output Shape              Param #   \n",
      "=================================================================\n",
      "input_9 (InputLayer)         (None, 60, 75)            0         \n",
      "_________________________________________________________________\n",
      "flatten_1 (Flatten)          (None, 4500)              0         \n",
      "_________________________________________________________________\n",
      "dense_24 (Dense)             (None, 500)               2250500   \n",
      "_________________________________________________________________\n",
      "dense_25 (Dense)             (None, 500)               250500    \n",
      "_________________________________________________________________\n",
      "dense_26 (Dense)             (None, 1)                 501       \n",
      "=================================================================\n",
      "Total params: 2,501,501\n",
      "Trainable params: 2,501,501\n",
      "Non-trainable params: 0\n",
      "_________________________________________________________________\n"
     ]
    }
   ],
   "source": [
    "model.summary()"
   ]
  },
  {
   "cell_type": "code",
   "execution_count": 178,
   "metadata": {
    "collapsed": false
   },
   "outputs": [
    {
     "name": "stdout",
     "output_type": "stream",
     "text": [
      "4928/5000 [============================>.] - ETA: 0s"
     ]
    }
   ],
   "source": [
    "pred = model.predict(val_inp, verbose=1)"
   ]
  },
  {
   "cell_type": "code",
   "execution_count": 179,
   "metadata": {
    "collapsed": false
   },
   "outputs": [
    {
     "data": {
      "text/plain": [
       "array([[  99378.015625 ],\n",
       "       [ 100172.140625 ],\n",
       "       [ 100299.1796875],\n",
       "       ..., \n",
       "       [ 151416.640625 ],\n",
       "       [ 152316.1875   ],\n",
       "       [ 152783.640625 ]], dtype=float32)"
      ]
     },
     "execution_count": 179,
     "metadata": {},
     "output_type": "execute_result"
    }
   ],
   "source": [
    "pred"
   ]
  },
  {
   "cell_type": "code",
   "execution_count": 180,
   "metadata": {
    "collapsed": false
   },
   "outputs": [
    {
     "data": {
      "text/plain": [
       "array([[-0.01507433, -0.01093767, -0.04023395, ..., -0.35679741,\n",
       "        -0.35352119, -0.35421855],\n",
       "       [-0.00720383, -0.00303412, -0.03256451, ..., -0.35165761,\n",
       "        -0.34835521, -0.34905814],\n",
       "       [-0.00594476, -0.00176976, -0.0313376 , ..., -0.35083538,\n",
       "        -0.34752879, -0.34823261],\n",
       "       ..., \n",
       "       [ 0.50067533,  0.50697812,  0.46234104, ..., -0.01998873,\n",
       "        -0.01499694, -0.01605947],\n",
       "       [ 0.50959066,  0.51593088,  0.47102862, ..., -0.01416661,\n",
       "        -0.00914516, -0.010214  ],\n",
       "       [ 0.51422354,  0.52058322,  0.47554316, ..., -0.01114112,\n",
       "        -0.00610426, -0.00717638]])"
      ]
     },
     "execution_count": 180,
     "metadata": {},
     "output_type": "execute_result"
    }
   ],
   "source": [
    "(pred - val_out)/val_out"
   ]
  },
  {
   "cell_type": "code",
   "execution_count": 181,
   "metadata": {
    "collapsed": false
   },
   "outputs": [
    {
     "data": {
      "text/plain": [
       "array([100899, 100477, 103544, ..., 154505, 153722, 153888])"
      ]
     },
     "execution_count": 181,
     "metadata": {},
     "output_type": "execute_result"
    }
   ],
   "source": [
    "val_out"
   ]
  },
  {
   "cell_type": "code",
   "execution_count": null,
   "metadata": {
    "collapsed": true
   },
   "outputs": [],
   "source": []
  }
 ],
 "metadata": {
  "anaconda-cloud": {},
  "kernelspec": {
   "display_name": "Python [python2]",
   "language": "python",
   "name": "Python [python2]"
  },
  "language_info": {
   "codemirror_mode": {
    "name": "ipython",
    "version": 2
   },
   "file_extension": ".py",
   "mimetype": "text/x-python",
   "name": "python",
   "nbconvert_exporter": "python",
   "pygments_lexer": "ipython2",
   "version": "2.7.13"
  }
 },
 "nbformat": 4,
 "nbformat_minor": 0
}
