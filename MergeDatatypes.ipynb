{
 "cells": [
  {
   "cell_type": "code",
   "execution_count": 1,
   "metadata": {
    "collapsed": true
   },
   "outputs": [],
   "source": [
    "import numpy as np\n",
    "import pandas as pd\n",
    "%matplotlib notebook"
   ]
  },
  {
   "cell_type": "code",
   "execution_count": 2,
   "metadata": {},
   "outputs": [
    {
     "name": "stdout",
     "output_type": "stream",
     "text": [
      "Power\n",
      "Index(['ts', 'gatewayId', 'linkQuality', 'ch1Watt', 'ch2Watt', 'ch3Watt',\n",
      "       'totalPositiveWattHour', 'totalNegativeWattHour', 'ch1Current',\n",
      "       'ch2Current', 'ch3Current', 'ch1Voltage', 'ch2Voltage', 'ch3Voltage',\n",
      "       'ch1PowerFactor', 'ch2PowerFactor', 'ch3PowerFactor', 'voltage12',\n",
      "       'voltage23', 'voltage31', 'ch1Hz', 'ch2Hz', 'ch3Hz', 'i1THD', 'i2THD',\n",
      "       'i3THD', 'v1THD', 'v2THD', 'v3THD'],\n",
      "      dtype='object')\n",
      "ConFlow\n",
      "Index(['ts', 'gatewayId', 'linkQuality', 'flowRate', 'flowSpeed',\n",
      "       'totalFlowRate', 'positiveTotalFlow', 'positiveTotalFlowDecimal'],\n",
      "      dtype='object')\n",
      "EvaFlow\n",
      "Index(['ts', 'gatewayId', 'linkQuality', 'flowRate', 'flowSpeed',\n",
      "       'totalFlowRate', 'positiveTotalFlow', 'positiveTotalFlowDecimal'],\n",
      "      dtype='object')\n",
      "Temp\n",
      "Index(['ts', 'gatewayId', 'linkQuality', 'ain1', 'ain2', 'ain3', 'ain4',\n",
      "       'ain5', 'voltage1', 'voltage2', 'voltage3', 'voltage4', 'voltage5',\n",
      "       'value1', 'value2', 'value3', 'value4'],\n",
      "      dtype='object')\n"
     ]
    }
   ],
   "source": [
    "n = str(1) #chiller number\n",
    "datatypes = [\"Power\",\"ConFlow\",\"EvaFlow\",\"Temp\"]\n",
    "df={}\n",
    "for datatype in datatypes:\n",
    "    df[datatype] = pd.read_csv(\"data/Chiller\"+n+\"_\"+datatype+\"_full.csv\")\n",
    "    df[datatype]['ts']=pd.to_datetime(df[datatype]['ts'])\n",
    "    df[datatype]['ts']=df[datatype]['ts'].dt.floor('min')\n",
    "    print(datatype)\n",
    "    print(df[datatype].columns)\n",
    "    \n",
    "ext_df_may = pd.read_csv(\"data/ext/NUS May OAT.csv\")\n",
    "ext_df_jun = pd.read_csv(\"data/ext/NUS June OAT.csv\")\n",
    "ext_df_july = pd.read_csv(\"data/ext/NUS July OAT.csv\")\n",
    "ext_df_aug = pd.read_csv(\"data/ext/NUS August OAT.csv\")\n",
    "ext_df_sept = pd.read_csv(\"data/ext/NUS September OAT.csv\")\n",
    "ext_df_oct = pd.read_csv(\"data/ext/NUS October OAT.csv\")\n",
    "ext_df_nov = pd.read_csv(\"data/ext/NUS November OAT.csv\")\n",
    "ext_df=pd.concat([ext_df_may, ext_df_jun, ext_df_july, ext_df_aug, ext_df_sept, ext_df_oct,ext_df_nov])\n",
    "\n",
    "ext_df['ts']=pd.to_datetime(ext_df['ts'])\n",
    "ext_df['ts']=ext_df['ts'].dt.floor('min')\n",
    "ext_df=ext_df[['ts','value']]"
   ]
  },
  {
   "cell_type": "code",
   "execution_count": 3,
   "metadata": {},
   "outputs": [
    {
     "name": "stdout",
     "output_type": "stream",
     "text": [
      "EvaFlow\n",
      "293430\n",
      "281505\n",
      "Temp\n",
      "301943\n",
      "288724\n",
      "ConFlow\n",
      "293416\n",
      "281396\n",
      "Power\n",
      "295954\n",
      "283177\n"
     ]
    }
   ],
   "source": [
    "collist={}\n",
    "collist['Power'] = ['ch'+str(i+1)+'Watt' for i in range(3)]\n",
    "collist['Temp'] = ['value'+str(i+1) for i in range(4)]\n",
    "collist['ConFlow'] = ['flowRate', 'flowSpeed']\n",
    "collist['EvaFlow'] = ['flowRate', 'flowSpeed']\n",
    "\n",
    "truncate_df = {}\n",
    "for key in df.keys():\n",
    "    truncate_df[key] = (df[key][['ts']+collist[key]])\n",
    "    print(key)\n",
    "    print(len(truncate_df[key].ts))\n",
    "    print(len(truncate_df[key].ts.unique()))\n",
    "    truncate_df[key]=truncate_df[key].groupby('ts', as_index=False).mean()\n",
    "\n",
    "truncate_df['ConFlow'].columns = ['ts', 'conflowRate', 'conflowSpeed']\n",
    "truncate_df['EvaFlow'].columns = ['ts', 'evaflowRate', 'evaflowSpeed']"
   ]
  },
  {
   "cell_type": "code",
   "execution_count": 5,
   "metadata": {},
   "outputs": [
    {
     "name": "stdout",
     "output_type": "stream",
     "text": [
      "extTemp\n",
      "254212\n",
      "253724\n"
     ]
    }
   ],
   "source": [
    "print(\"extTemp\")\n",
    "print(len(ext_df.ts))\n",
    "print(len(ext_df.ts.unique()))\n",
    "ext_df=ext_df.groupby('ts', as_index=False).mean()"
   ]
  },
  {
   "cell_type": "code",
   "execution_count": 8,
   "metadata": {},
   "outputs": [
    {
     "data": {
      "text/html": [
       "<div>\n",
       "<style>\n",
       "    .dataframe thead tr:only-child th {\n",
       "        text-align: right;\n",
       "    }\n",
       "\n",
       "    .dataframe thead th {\n",
       "        text-align: left;\n",
       "    }\n",
       "\n",
       "    .dataframe tbody tr th {\n",
       "        vertical-align: top;\n",
       "    }\n",
       "</style>\n",
       "<table border=\"1\" class=\"dataframe\">\n",
       "  <thead>\n",
       "    <tr style=\"text-align: right;\">\n",
       "      <th></th>\n",
       "      <th>ch1Watt</th>\n",
       "      <th>ch2Watt</th>\n",
       "      <th>ch3Watt</th>\n",
       "      <th>value1</th>\n",
       "      <th>value2</th>\n",
       "      <th>value3</th>\n",
       "      <th>value4</th>\n",
       "      <th>conflowRate</th>\n",
       "      <th>conflowSpeed</th>\n",
       "      <th>evaflowRate</th>\n",
       "      <th>evaflowSpeed</th>\n",
       "    </tr>\n",
       "    <tr>\n",
       "      <th>ts</th>\n",
       "      <th></th>\n",
       "      <th></th>\n",
       "      <th></th>\n",
       "      <th></th>\n",
       "      <th></th>\n",
       "      <th></th>\n",
       "      <th></th>\n",
       "      <th></th>\n",
       "      <th></th>\n",
       "      <th></th>\n",
       "      <th></th>\n",
       "    </tr>\n",
       "  </thead>\n",
       "  <tbody>\n",
       "    <tr>\n",
       "      <th>2017-05-01 00:00:00</th>\n",
       "      <td>349.0</td>\n",
       "      <td>0.0</td>\n",
       "      <td>353.0</td>\n",
       "      <td>18.068238</td>\n",
       "      <td>20.535583</td>\n",
       "      <td>23.376769</td>\n",
       "      <td>23.387453</td>\n",
       "      <td>0.000000</td>\n",
       "      <td>0.000000</td>\n",
       "      <td>0.000000</td>\n",
       "      <td>0.00000</td>\n",
       "    </tr>\n",
       "    <tr>\n",
       "      <th>2017-05-01 00:01:00</th>\n",
       "      <td>383.0</td>\n",
       "      <td>0.0</td>\n",
       "      <td>396.0</td>\n",
       "      <td>16.166991</td>\n",
       "      <td>16.914672</td>\n",
       "      <td>22.565002</td>\n",
       "      <td>22.639772</td>\n",
       "      <td>35.284023</td>\n",
       "      <td>0.303604</td>\n",
       "      <td>0.000000</td>\n",
       "      <td>0.00000</td>\n",
       "    </tr>\n",
       "    <tr>\n",
       "      <th>2017-05-01 00:02:00</th>\n",
       "      <td>379.0</td>\n",
       "      <td>0.0</td>\n",
       "      <td>394.0</td>\n",
       "      <td>15.964052</td>\n",
       "      <td>16.722413</td>\n",
       "      <td>22.372743</td>\n",
       "      <td>22.351379</td>\n",
       "      <td>144.330154</td>\n",
       "      <td>1.241898</td>\n",
       "      <td>0.000000</td>\n",
       "      <td>0.00000</td>\n",
       "    </tr>\n",
       "    <tr>\n",
       "      <th>2017-05-01 00:03:00</th>\n",
       "      <td>389.0</td>\n",
       "      <td>0.0</td>\n",
       "      <td>408.0</td>\n",
       "      <td>17.053528</td>\n",
       "      <td>17.822570</td>\n",
       "      <td>22.265932</td>\n",
       "      <td>22.372743</td>\n",
       "      <td>195.770782</td>\n",
       "      <td>1.684522</td>\n",
       "      <td>10.812524</td>\n",
       "      <td>0.16108</td>\n",
       "    </tr>\n",
       "    <tr>\n",
       "      <th>2017-05-01 00:04:00</th>\n",
       "      <td>5748.0</td>\n",
       "      <td>4480.0</td>\n",
       "      <td>4942.0</td>\n",
       "      <td>18.559570</td>\n",
       "      <td>19.531554</td>\n",
       "      <td>22.415465</td>\n",
       "      <td>22.490235</td>\n",
       "      <td>214.631348</td>\n",
       "      <td>1.846809</td>\n",
       "      <td>77.101921</td>\n",
       "      <td>1.14863</td>\n",
       "    </tr>\n",
       "  </tbody>\n",
       "</table>\n",
       "</div>"
      ],
      "text/plain": [
       "                     ch1Watt  ch2Watt  ch3Watt     value1     value2  \\\n",
       "ts                                                                     \n",
       "2017-05-01 00:00:00    349.0      0.0    353.0  18.068238  20.535583   \n",
       "2017-05-01 00:01:00    383.0      0.0    396.0  16.166991  16.914672   \n",
       "2017-05-01 00:02:00    379.0      0.0    394.0  15.964052  16.722413   \n",
       "2017-05-01 00:03:00    389.0      0.0    408.0  17.053528  17.822570   \n",
       "2017-05-01 00:04:00   5748.0   4480.0   4942.0  18.559570  19.531554   \n",
       "\n",
       "                        value3     value4  conflowRate  conflowSpeed  \\\n",
       "ts                                                                     \n",
       "2017-05-01 00:00:00  23.376769  23.387453     0.000000      0.000000   \n",
       "2017-05-01 00:01:00  22.565002  22.639772    35.284023      0.303604   \n",
       "2017-05-01 00:02:00  22.372743  22.351379   144.330154      1.241898   \n",
       "2017-05-01 00:03:00  22.265932  22.372743   195.770782      1.684522   \n",
       "2017-05-01 00:04:00  22.415465  22.490235   214.631348      1.846809   \n",
       "\n",
       "                     evaflowRate  evaflowSpeed  \n",
       "ts                                              \n",
       "2017-05-01 00:00:00     0.000000       0.00000  \n",
       "2017-05-01 00:01:00     0.000000       0.00000  \n",
       "2017-05-01 00:02:00     0.000000       0.00000  \n",
       "2017-05-01 00:03:00    10.812524       0.16108  \n",
       "2017-05-01 00:04:00    77.101921       1.14863  "
      ]
     },
     "execution_count": 8,
     "metadata": {},
     "output_type": "execute_result"
    }
   ],
   "source": [
    "PowerTemp = pd.DataFrame.merge(truncate_df['Power'], truncate_df['Temp'])\n",
    "Flows = pd.DataFrame.merge(truncate_df['ConFlow'], truncate_df['EvaFlow'])\n",
    "fullDF = pd.DataFrame.merge(PowerTemp,Flows)\n",
    "fullDF_wext = pd.DataFrame.merge(fullDF, ext_df)\n",
    "fullDF.index=fullDF.ts\n",
    "fullDF.drop('ts', axis=1, inplace=True)\n",
    "fullDF.head()"
   ]
  },
  {
   "cell_type": "code",
   "execution_count": 5,
   "metadata": {
    "collapsed": true
   },
   "outputs": [],
   "source": [
    "fullDF.to_csv(\"data/Chiller\"+n+\"_full.csv\")"
   ]
  }
 ],
 "metadata": {
  "anaconda-cloud": {},
  "kernelspec": {
   "display_name": "Python 3",
   "language": "python",
   "name": "python3"
  },
  "language_info": {
   "codemirror_mode": {
    "name": "ipython",
    "version": 3
   },
   "file_extension": ".py",
   "mimetype": "text/x-python",
   "name": "python",
   "nbconvert_exporter": "python",
   "pygments_lexer": "ipython3",
   "version": "3.5.4"
  }
 },
 "nbformat": 4,
 "nbformat_minor": 1
}
