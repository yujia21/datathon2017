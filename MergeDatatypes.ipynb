{
 "cells": [
  {
   "cell_type": "code",
   "execution_count": 1,
   "metadata": {
    "collapsed": true
   },
   "outputs": [],
   "source": [
    "import numpy as np\n",
    "import pandas as pd\n",
    "%matplotlib notebook"
   ]
  },
  {
   "cell_type": "code",
   "execution_count": 2,
   "metadata": {},
   "outputs": [
    {
     "name": "stdout",
     "output_type": "stream",
     "text": [
      "Power\n",
      "Index(['ts', 'gatewayId', 'linkQuality', 'ch1Watt', 'ch2Watt', 'ch3Watt',\n",
      "       'totalPositiveWattHour', 'totalNegativeWattHour', 'ch1Current',\n",
      "       'ch2Current', 'ch3Current', 'ch1Voltage', 'ch2Voltage', 'ch3Voltage',\n",
      "       'ch1PowerFactor', 'ch2PowerFactor', 'ch3PowerFactor', 'voltage12',\n",
      "       'voltage23', 'voltage31', 'ch1Hz', 'ch2Hz', 'ch3Hz', 'i1THD', 'i2THD',\n",
      "       'i3THD', 'v1THD', 'v2THD', 'v3THD'],\n",
      "      dtype='object')\n",
      "ConFlow\n",
      "Index(['ts', 'gatewayId', 'linkQuality', 'flowRate', 'flowSpeed',\n",
      "       'totalFlowRate', 'positiveTotalFlow', 'positiveTotalFlowDecimal'],\n",
      "      dtype='object')\n",
      "EvaFlow\n",
      "Index(['ts', 'gatewayId', 'linkQuality', 'flowRate', 'flowSpeed',\n",
      "       'totalFlowRate', 'positiveTotalFlow', 'positiveTotalFlowDecimal'],\n",
      "      dtype='object')\n",
      "Temp\n",
      "Index(['ts', 'gatewayId', 'linkQuality', 'ain1', 'ain2', 'ain3', 'ain4',\n",
      "       'ain5', 'voltage1', 'voltage2', 'voltage3', 'voltage4', 'voltage5',\n",
      "       'value1', 'value2', 'value3', 'value4'],\n",
      "      dtype='object')\n"
     ]
    }
   ],
   "source": [
    "n = str(1) #chiller number\n",
    "datatypes = [\"Power\",\"ConFlow\",\"EvaFlow\",\"Temp\"]\n",
    "df={}\n",
    "for datatype in datatypes:\n",
    "    df[datatype] = pd.read_csv(\"data/Chiller\"+n+\"_\"+datatype+\"_full.csv\")\n",
    "    df[datatype]['ts']=pd.to_datetime(df[datatype]['ts'])\n",
    "    df[datatype]['ts']=df[datatype]['ts'].dt.floor('min')\n",
    "    print(datatype)\n",
    "    print(df[datatype].columns)\n",
    "    \n",
    "ext_df_may = pd.read_csv(\"data/ext/NUS May OAT.csv\")\n",
    "ext_df_jun = pd.read_csv(\"data/ext/NUS June OAT.csv\")\n",
    "ext_df_july = pd.read_csv(\"data/ext/NUS July OAT.csv\")\n",
    "ext_df_aug = pd.read_csv(\"data/ext/NUS August OAT.csv\")\n",
    "ext_df_sept = pd.read_csv(\"data/ext/NUS September OAT.csv\")\n",
    "ext_df_oct = pd.read_csv(\"data/ext/NUS October OAT.csv\")\n",
    "ext_df_nov = pd.read_csv(\"data/ext/NUS November OAT.csv\")\n",
    "ext_df=pd.concat([ext_df_may, ext_df_jun, ext_df_july, ext_df_aug, ext_df_sept, ext_df_oct,ext_df_nov])\n",
    "\n",
    "ext_df['ts']=pd.to_datetime(ext_df['ts'])\n",
    "ext_df['ts']=ext_df['ts'].dt.floor('min')\n",
    "ext_df=ext_df[['ts','value']]"
   ]
  },
  {
   "cell_type": "code",
   "execution_count": 3,
   "metadata": {},
   "outputs": [
    {
     "name": "stdout",
     "output_type": "stream",
     "text": [
      "EvaFlow\n",
      "293430\n",
      "281505\n",
      "Temp\n",
      "301943\n",
      "288724\n",
      "ConFlow\n",
      "293416\n",
      "281396\n",
      "Power\n",
      "295954\n",
      "283177\n"
     ]
    }
   ],
   "source": [
    "collist={}\n",
    "collist['Power'] = ['ch'+str(i+1)+'Watt' for i in range(3)]\n",
    "collist['Temp'] = ['value'+str(i+1) for i in range(4)]\n",
    "collist['ConFlow'] = ['flowRate', 'flowSpeed']\n",
    "collist['EvaFlow'] = ['flowRate', 'flowSpeed']\n",
    "\n",
    "truncate_df = {}\n",
    "for key in df.keys():\n",
    "    truncate_df[key] = (df[key][['ts']+collist[key]])\n",
    "    print(key)\n",
    "    print(len(truncate_df[key].ts))\n",
    "    print(len(truncate_df[key].ts.unique()))\n",
    "    truncate_df[key]=truncate_df[key].groupby('ts', as_index=False).mean()\n",
    "\n",
    "truncate_df['ConFlow'].columns = ['ts', 'conflowRate', 'conflowSpeed']\n",
    "truncate_df['EvaFlow'].columns = ['ts', 'evaflowRate', 'evaflowSpeed']"
   ]
  },
  {
   "cell_type": "code",
   "execution_count": 5,
   "metadata": {},
   "outputs": [
    {
     "name": "stdout",
     "output_type": "stream",
     "text": [
      "extTemp\n",
      "254212\n",
      "253724\n"
     ]
    }
   ],
   "source": [
    "print(\"extTemp\")\n",
    "print(len(ext_df.ts))\n",
    "print(len(ext_df.ts.unique()))\n",
    "ext_df=ext_df.groupby('ts', as_index=False).mean()"
   ]
  },
  {
   "cell_type": "code",
   "execution_count": 13,
   "metadata": {},
   "outputs": [],
   "source": [
    "PowerTemp = pd.DataFrame.merge(truncate_df['Power'], truncate_df['Temp'])\n",
    "Flows = pd.DataFrame.merge(truncate_df['ConFlow'], truncate_df['EvaFlow'])\n",
    "fullDF = pd.DataFrame.merge(PowerTemp,Flows)"
   ]
  },
  {
   "cell_type": "code",
   "execution_count": null,
   "metadata": {},
   "outputs": [],
   "source": [
    "fullDF_wext = pd.DataFrame.merge(fullDF, ext_df)\n",
    "fullDF_wext.index=fullDF_wext.ts\n",
    "fullDF_wext.drop('ts', axis=1, inplace=True)\n",
    "fullDF_wext.to_csv(\"data/Chiller\"+n+\"_full_ext.csv\")"
   ]
  },
  {
   "cell_type": "code",
   "execution_count": null,
   "metadata": {
    "collapsed": true
   },
   "outputs": [],
   "source": [
    "fullDF.index=fullDF.ts\n",
    "fullDF.drop('ts', axis=1, inplace=True)\n",
    "fullDF.head()\n",
    "fullDF.to_csv(\"data/Chiller\"+n+\"_full.csv\")"
   ]
  }
 ],
 "metadata": {
  "anaconda-cloud": {},
  "kernelspec": {
   "display_name": "Python 3",
   "language": "python",
   "name": "python3"
  },
  "language_info": {
   "codemirror_mode": {
    "name": "ipython",
    "version": 3
   },
   "file_extension": ".py",
   "mimetype": "text/x-python",
   "name": "python",
   "nbconvert_exporter": "python",
   "pygments_lexer": "ipython3",
   "version": "3.5.4"
  }
 },
 "nbformat": 4,
 "nbformat_minor": 1
}
