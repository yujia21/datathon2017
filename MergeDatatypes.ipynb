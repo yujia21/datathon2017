{
 "cells": [
  {
   "cell_type": "code",
   "execution_count": 1,
   "metadata": {
    "collapsed": true
   },
   "outputs": [],
   "source": [
    "import numpy as np\n",
    "import pandas as pd\n",
    "%matplotlib notebook"
   ]
  },
  {
   "cell_type": "code",
   "execution_count": 2,
   "metadata": {
    "collapsed": false
   },
   "outputs": [
    {
     "name": "stdout",
     "output_type": "stream",
     "text": [
      "Power\n",
      "Index([u'ts', u'gatewayId', u'linkQuality', u'ch1Watt', u'ch2Watt', u'ch3Watt',\n",
      "       u'totalPositiveWattHour', u'totalNegativeWattHour', u'ch1Current',\n",
      "       u'ch2Current', u'ch3Current', u'ch1Voltage', u'ch2Voltage',\n",
      "       u'ch3Voltage', u'ch1PowerFactor', u'ch2PowerFactor', u'ch3PowerFactor',\n",
      "       u'voltage12', u'voltage23', u'voltage31', u'ch1Hz', u'ch2Hz', u'ch3Hz',\n",
      "       u'i1THD', u'i2THD', u'i3THD', u'v1THD', u'v2THD', u'v3THD'],\n",
      "      dtype='object')\n",
      "ConFlow\n",
      "Index([u'ts', u'gatewayId', u'linkQuality', u'flowRate', u'flowSpeed',\n",
      "       u'totalFlowRate', u'positiveTotalFlow', u'positiveTotalFlowDecimal'],\n",
      "      dtype='object')\n",
      "EvaFlow\n",
      "Index([u'ts', u'gatewayId', u'linkQuality', u'flowRate', u'flowSpeed',\n",
      "       u'totalFlowRate', u'positiveTotalFlow', u'positiveTotalFlowDecimal'],\n",
      "      dtype='object')\n",
      "Temp\n",
      "Index([u'ts', u'gatewayId', u'linkQuality', u'ain1', u'ain2', u'ain3', u'ain4',\n",
      "       u'ain5', u'voltage1', u'voltage2', u'voltage3', u'voltage4',\n",
      "       u'voltage5', u'value1', u'value2', u'value3', u'value4'],\n",
      "      dtype='object')\n"
     ]
    }
   ],
   "source": [
    "n = str(2) #chiller number\n",
    "datatypes = [\"Power\",\"ConFlow\",\"EvaFlow\",\"Temp\"]\n",
    "df={}\n",
    "for datatype in datatypes:\n",
    "    df[datatype] = pd.read_csv(\"data/Chiller\"+n+\"_\"+datatype+\"_full.csv\")\n",
    "    df[datatype]['ts']=pd.to_datetime(df[datatype]['ts'])\n",
    "    df[datatype]['ts']=df[datatype]['ts'].dt.floor('min')\n",
    "    print(datatype)\n",
    "    print(df[datatype].columns)"
   ]
  },
  {
   "cell_type": "code",
   "execution_count": 6,
   "metadata": {
    "collapsed": false
   },
   "outputs": [
    {
     "data": {
      "text/html": [
       "<div>\n",
       "<style scoped>\n",
       "    .dataframe tbody tr th:only-of-type {\n",
       "        vertical-align: middle;\n",
       "    }\n",
       "\n",
       "    .dataframe tbody tr th {\n",
       "        vertical-align: top;\n",
       "    }\n",
       "\n",
       "    .dataframe thead th {\n",
       "        text-align: right;\n",
       "    }\n",
       "</style>\n",
       "<table border=\"1\" class=\"dataframe\">\n",
       "  <thead>\n",
       "    <tr style=\"text-align: right;\">\n",
       "      <th></th>\n",
       "      <th>ts</th>\n",
       "      <th>ch1Watt</th>\n",
       "      <th>ch2Watt</th>\n",
       "      <th>ch3Watt</th>\n",
       "      <th>value1</th>\n",
       "      <th>value2</th>\n",
       "      <th>value3</th>\n",
       "      <th>value4</th>\n",
       "      <th>conflowRate</th>\n",
       "      <th>conflowSpeed</th>\n",
       "      <th>evaflowRate</th>\n",
       "      <th>evaflowSpeed</th>\n",
       "    </tr>\n",
       "  </thead>\n",
       "  <tbody>\n",
       "    <tr>\n",
       "      <th>0</th>\n",
       "      <td>2017-05-01 00:00:00</td>\n",
       "      <td>325</td>\n",
       "      <td>0</td>\n",
       "      <td>324</td>\n",
       "      <td>18.580934</td>\n",
       "      <td>21.582337</td>\n",
       "      <td>23.633118</td>\n",
       "      <td>23.451539</td>\n",
       "      <td>0.0</td>\n",
       "      <td>0.0</td>\n",
       "      <td>0.0</td>\n",
       "      <td>0.0</td>\n",
       "    </tr>\n",
       "    <tr>\n",
       "      <th>1</th>\n",
       "      <td>2017-05-01 00:01:00</td>\n",
       "      <td>326</td>\n",
       "      <td>0</td>\n",
       "      <td>328</td>\n",
       "      <td>18.602295</td>\n",
       "      <td>21.539612</td>\n",
       "      <td>23.558351</td>\n",
       "      <td>23.398133</td>\n",
       "      <td>0.0</td>\n",
       "      <td>0.0</td>\n",
       "      <td>0.0</td>\n",
       "      <td>0.0</td>\n",
       "    </tr>\n",
       "    <tr>\n",
       "      <th>2</th>\n",
       "      <td>2017-05-01 00:02:00</td>\n",
       "      <td>327</td>\n",
       "      <td>0</td>\n",
       "      <td>324</td>\n",
       "      <td>18.495484</td>\n",
       "      <td>21.614379</td>\n",
       "      <td>23.483581</td>\n",
       "      <td>23.323363</td>\n",
       "      <td>0.0</td>\n",
       "      <td>0.0</td>\n",
       "      <td>0.0</td>\n",
       "      <td>0.0</td>\n",
       "    </tr>\n",
       "    <tr>\n",
       "      <th>3</th>\n",
       "      <td>2017-05-01 00:03:00</td>\n",
       "      <td>338</td>\n",
       "      <td>0</td>\n",
       "      <td>325</td>\n",
       "      <td>18.474123</td>\n",
       "      <td>21.571657</td>\n",
       "      <td>23.601076</td>\n",
       "      <td>23.205871</td>\n",
       "      <td>0.0</td>\n",
       "      <td>0.0</td>\n",
       "      <td>0.0</td>\n",
       "      <td>0.0</td>\n",
       "    </tr>\n",
       "    <tr>\n",
       "      <th>4</th>\n",
       "      <td>2017-05-01 00:04:00</td>\n",
       "      <td>334</td>\n",
       "      <td>0</td>\n",
       "      <td>328</td>\n",
       "      <td>18.559570</td>\n",
       "      <td>21.560973</td>\n",
       "      <td>23.536987</td>\n",
       "      <td>23.227236</td>\n",
       "      <td>0.0</td>\n",
       "      <td>0.0</td>\n",
       "      <td>0.0</td>\n",
       "      <td>0.0</td>\n",
       "    </tr>\n",
       "  </tbody>\n",
       "</table>\n",
       "</div>"
      ],
      "text/plain": [
       "                   ts  ch1Watt  ch2Watt  ch3Watt     value1     value2  \\\n",
       "0 2017-05-01 00:00:00      325        0      324  18.580934  21.582337   \n",
       "1 2017-05-01 00:01:00      326        0      328  18.602295  21.539612   \n",
       "2 2017-05-01 00:02:00      327        0      324  18.495484  21.614379   \n",
       "3 2017-05-01 00:03:00      338        0      325  18.474123  21.571657   \n",
       "4 2017-05-01 00:04:00      334        0      328  18.559570  21.560973   \n",
       "\n",
       "      value3     value4  conflowRate  conflowSpeed  evaflowRate  evaflowSpeed  \n",
       "0  23.633118  23.451539          0.0           0.0          0.0           0.0  \n",
       "1  23.558351  23.398133          0.0           0.0          0.0           0.0  \n",
       "2  23.483581  23.323363          0.0           0.0          0.0           0.0  \n",
       "3  23.601076  23.205871          0.0           0.0          0.0           0.0  \n",
       "4  23.536987  23.227236          0.0           0.0          0.0           0.0  "
      ]
     },
     "execution_count": 6,
     "metadata": {},
     "output_type": "execute_result"
    }
   ],
   "source": [
    "collist={}\n",
    "collist['Power'] = ['ch'+str(i+1)+'Watt' for i in range(3)]\n",
    "collist['Temp'] = ['value'+str(i+1) for i in range(4)]\n",
    "collist['ConFlow'] = ['flowRate', 'flowSpeed']\n",
    "collist['EvaFlow'] = ['flowRate', 'flowSpeed']\n",
    "\n",
    "truncate_df = {}\n",
    "for key in df.keys():\n",
    "    truncate_df[key] = (df[key][['ts']+collist[key]])\n",
    "\n",
    "truncate_df['ConFlow'].columns = ['ts', 'conflowRate', 'conflowSpeed']\n",
    "truncate_df['EvaFlow'].columns = ['ts', 'evaflowRate', 'evaflowSpeed']\n",
    "PowerTemp = pd.DataFrame.merge(truncate_df['Power'], truncate_df['Temp'])\n",
    "\n",
    "Flows = pd.DataFrame.merge(truncate_df['ConFlow'], truncate_df['EvaFlow'])\n",
    "fullDF = pd.DataFrame.merge(PowerTemp,Flows)\n",
    "fullDF.set_index('ts')\n",
    "# fullDF.index=fullDF.ts\n",
    "# fullDF.drop('ts', axis=1, inplace=True)\n",
    "fullDF.head()"
   ]
  },
  {
   "cell_type": "code",
   "execution_count": 7,
   "metadata": {
    "collapsed": true
   },
   "outputs": [],
   "source": [
    "fullDF.to_csv(\"data/Chiller\"+n+\"_full.csv\")"
   ]
  },
  {
   "cell_type": "code",
   "execution_count": 20,
   "metadata": {
    "collapsed": false
   },
   "outputs": [],
   "source": [
    "hour = pd.to_datetime(fullDF.ts).dt.hour"
   ]
  },
  {
   "cell_type": "code",
   "execution_count": 21,
   "metadata": {
    "collapsed": false
   },
   "outputs": [
    {
     "data": {
      "text/plain": [
       "0          0\n",
       "1          0\n",
       "2          0\n",
       "3          0\n",
       "4          0\n",
       "5          0\n",
       "6          0\n",
       "7          0\n",
       "8          0\n",
       "9          0\n",
       "10         0\n",
       "11         0\n",
       "12         0\n",
       "13         0\n",
       "14         0\n",
       "15         0\n",
       "16         0\n",
       "17         0\n",
       "18         0\n",
       "19         0\n",
       "20         0\n",
       "21         0\n",
       "22         0\n",
       "23         0\n",
       "24         0\n",
       "25         0\n",
       "26         0\n",
       "27         0\n",
       "28         0\n",
       "29         0\n",
       "          ..\n",
       "430540    22\n",
       "430541    22\n",
       "430542    22\n",
       "430543    22\n",
       "430544    22\n",
       "430545    22\n",
       "430546    22\n",
       "430547    23\n",
       "430548    23\n",
       "430549    23\n",
       "430550    23\n",
       "430551    23\n",
       "430552    23\n",
       "430553    23\n",
       "430554    23\n",
       "430555    23\n",
       "430556    23\n",
       "430557    23\n",
       "430558    23\n",
       "430559    23\n",
       "430560    23\n",
       "430561    23\n",
       "430562    23\n",
       "430563    23\n",
       "430564    23\n",
       "430565    23\n",
       "430566    23\n",
       "430567    23\n",
       "430568    23\n",
       "430569    23\n",
       "Name: ts, Length: 430570, dtype: int64"
      ]
     },
     "execution_count": 21,
     "metadata": {},
     "output_type": "execute_result"
    }
   ],
   "source": [
    "hour"
   ]
  },
  {
   "cell_type": "code",
   "execution_count": null,
   "metadata": {
    "collapsed": true
   },
   "outputs": [],
   "source": []
  }
 ],
 "metadata": {
  "anaconda-cloud": {},
  "kernelspec": {
   "display_name": "Python [python2]",
   "language": "python",
   "name": "Python [python2]"
  },
  "language_info": {
   "codemirror_mode": {
    "name": "ipython",
    "version": 2
   },
   "file_extension": ".py",
   "mimetype": "text/x-python",
   "name": "python",
   "nbconvert_exporter": "python",
   "pygments_lexer": "ipython2",
   "version": "2.7.13"
  }
 },
 "nbformat": 4,
 "nbformat_minor": 1
}
