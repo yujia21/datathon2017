{
 "cells": [
  {
   "cell_type": "code",
   "execution_count": 1,
   "metadata": {},
   "outputs": [],
   "source": [
    "import numpy as np\n",
    "import pandas as pd\n",
    "%matplotlib inline"
   ]
  },
  {
   "cell_type": "code",
   "execution_count": 18,
   "metadata": {},
   "outputs": [],
   "source": [
    "n = str(2) #chiller number\n",
    "datatype =  \"Temp\" #\"Power\" #\"ConFlow\" #\"EvaFlow\" #\n",
    "monthlist = [\"05\",\"06\",\"07\",\"08\",\"09\",\"10\",\"11\"]\n",
    "\n",
    "# create dataframe for each month\n",
    "df = {}\n",
    "for i in monthlist:\n",
    "    file1 = \"Chiller\"+n+\"_\"+datatype+\"_\"+str(2017)+\"_\"+i\n",
    "    df[i] = pd.read_csv(\"data/\"+file1+\".csv\")\n",
    "\n",
    "# concatenate data\n",
    "df_full = pd.concat([df[i] for i in monthlist])\n",
    "\n",
    "# check that columns are same for each month and total (no mistake in dataset)\n",
    "for i in monthlist:\n",
    "    assert(len(df_full.columns)==len(df[i].columns))"
   ]
  },
  {
   "cell_type": "code",
   "execution_count": 19,
   "metadata": {},
   "outputs": [],
   "source": [
    "# Change index to time series, datetime format\n",
    "df_full.index = pd.to_datetime(df_full['ts'])\n",
    "df_full.drop('ts', axis=1, inplace=True)"
   ]
  },
  {
   "cell_type": "code",
   "execution_count": 20,
   "metadata": {},
   "outputs": [
    {
     "name": "stdout",
     "output_type": "stream",
     "text": [
      "ieee: d5df60\n",
      "receivedSync: nan\n",
      "randTime: nan\n",
      "value5: 0\n"
     ]
    }
   ],
   "source": [
    "# If exists, drop redundant columns with unique values\n",
    "for col in df_full.columns:\n",
    "    if len(df_full[col].unique()) == 1:\n",
    "        print(col+\": \"+str(df_full[col].unique()[0]))\n",
    "        df_full.drop(col,inplace=True,axis=1)"
   ]
  },
  {
   "cell_type": "code",
   "execution_count": 21,
   "metadata": {},
   "outputs": [],
   "source": [
    "# Write to CSV file\n",
    "df_full.to_csv(\"data/Chiller\"+n+\"_\"+datatype+\"_full.csv\")"
   ]
  },
  {
   "cell_type": "code",
   "execution_count": null,
   "metadata": {},
   "outputs": [],
   "source": []
  }
 ],
 "metadata": {
  "anaconda-cloud": {},
  "kernelspec": {
   "display_name": "Python 3",
   "language": "python",
   "name": "python3"
  },
  "language_info": {
   "codemirror_mode": {
    "name": "ipython",
    "version": 3
   },
   "file_extension": ".py",
   "mimetype": "text/x-python",
   "name": "python",
   "nbconvert_exporter": "python",
   "pygments_lexer": "ipython3",
   "version": "3.6.4"
  }
 },
 "nbformat": 4,
 "nbformat_minor": 1
}
