{
 "cells": [
  {
   "cell_type": "code",
   "execution_count": 83,
   "metadata": {
    "collapsed": true
   },
   "outputs": [],
   "source": [
    "import numpy as np\n",
    "import pandas as pd\n",
    "%matplotlib inline"
   ]
  },
  {
   "cell_type": "code",
   "execution_count": 157,
   "metadata": {
    "collapsed": false
   },
   "outputs": [],
   "source": [
    "n = str(1) #chiller number\n",
    "datatype = \"ConFlow\" #\"EvaFlow\" #\"Temp\" #\"Power\"\n",
    "monthlist = [\"05\",\"06\",\"07\",\"08\",\"09\",\"10\",\"11\"]\n",
    "\n",
    "# create dataframe for each month\n",
    "df = {}\n",
    "for i in monthlist:\n",
    "    file1 = \"Chiller\"+n+\"_\"+datatype+\"_\"+str(2017)+i\n",
    "    df[i] = pd.read_csv(\"data/\"+file1+\".csv\")\n",
    "\n",
    "# concatenate data\n",
    "df_full = pd.concat([df[i] for i in monthlist])\n",
    "\n",
    "# check that columns are same for each month and total (no mistake in dataset)\n",
    "for i in monthlist:\n",
    "    assert(len(df_full.columns)==len(df[i].columns))"
   ]
  },
  {
   "cell_type": "code",
   "execution_count": 158,
   "metadata": {
    "collapsed": false
   },
   "outputs": [],
   "source": [
    "# Change index to time series, datetime format\n",
    "df_full.index = pd.to_datetime(df_full['ts'])\n",
    "df_full.drop('ts', axis=1, inplace=True)"
   ]
  },
  {
   "cell_type": "code",
   "execution_count": 159,
   "metadata": {
    "collapsed": false
   },
   "outputs": [
    {
     "name": "stdout",
     "output_type": "stream",
     "text": [
      "ieee: d5df68\n",
      "receivedSync: nan\n",
      "quality: nan\n",
      "upstream: nan\n",
      "downstream: nan\n",
      "inletTemp: nan\n",
      "outletTemp: nan\n",
      "degree: nan\n",
      "unit: nan\n"
     ]
    }
   ],
   "source": [
    "# If exists, drop redundant columns with unique values\n",
    "for col in df_full.columns:\n",
    "    if len(df_full[col].unique()) == 1:\n",
    "        print(col+\": \"+str(df_full[col].unique()[0]))\n",
    "        df_full.drop(col,inplace=True,axis=1)"
   ]
  },
  {
   "cell_type": "code",
   "execution_count": 160,
   "metadata": {
    "collapsed": true
   },
   "outputs": [],
   "source": [
    "# Write to CSV file\n",
    "df_full.to_csv(\"data/Chiller\"+n+\"_\"+datatype+\"_full.csv\")"
   ]
  },
  {
   "cell_type": "code",
   "execution_count": null,
   "metadata": {
    "collapsed": true
   },
   "outputs": [],
   "source": []
  }
 ],
 "metadata": {
  "anaconda-cloud": {},
  "kernelspec": {
   "display_name": "Python [conda env:py27]",
   "language": "python",
   "name": "conda-env-py27-py"
  },
  "language_info": {
   "codemirror_mode": {
    "name": "ipython",
    "version": 2
   },
   "file_extension": ".py",
   "mimetype": "text/x-python",
   "name": "python",
   "nbconvert_exporter": "python",
   "pygments_lexer": "ipython2",
   "version": "2.7.12"
  }
 },
 "nbformat": 4,
 "nbformat_minor": 1
}
