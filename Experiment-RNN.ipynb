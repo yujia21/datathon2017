{
 "cells": [
  {
   "cell_type": "code",
   "execution_count": 1,
   "metadata": {
    "collapsed": true
   },
   "outputs": [],
   "source": [
    "import numpy as np\n",
    "import pandas as pd\n",
    "%matplotlib notebook"
   ]
  },
  {
   "cell_type": "code",
   "execution_count": 2,
   "metadata": {
    "collapsed": true
   },
   "outputs": [],
   "source": [
    "n = str(2)\n",
    "fullDF = pd.read_csv(\"data/Chiller\"+n+\"_full.csv\")\n",
    "num_samples = fullDF.shape[0]\n",
    "window_size = 60"
   ]
  },
  {
   "cell_type": "code",
   "execution_count": 3,
   "metadata": {
    "collapsed": false
   },
   "outputs": [
    {
     "data": {
      "text/html": [
       "<div>\n",
       "<style scoped>\n",
       "    .dataframe tbody tr th:only-of-type {\n",
       "        vertical-align: middle;\n",
       "    }\n",
       "\n",
       "    .dataframe tbody tr th {\n",
       "        vertical-align: top;\n",
       "    }\n",
       "\n",
       "    .dataframe thead th {\n",
       "        text-align: right;\n",
       "    }\n",
       "</style>\n",
       "<table border=\"1\" class=\"dataframe\">\n",
       "  <thead>\n",
       "    <tr style=\"text-align: right;\">\n",
       "      <th></th>\n",
       "      <th>ts</th>\n",
       "      <th>ch1Watt</th>\n",
       "      <th>ch2Watt</th>\n",
       "      <th>ch3Watt</th>\n",
       "      <th>value1</th>\n",
       "      <th>value2</th>\n",
       "      <th>value3</th>\n",
       "      <th>value4</th>\n",
       "      <th>conflowRate</th>\n",
       "      <th>conflowSpeed</th>\n",
       "      <th>evaflowRate</th>\n",
       "      <th>evaflowSpeed</th>\n",
       "    </tr>\n",
       "  </thead>\n",
       "  <tbody>\n",
       "    <tr>\n",
       "      <th>0</th>\n",
       "      <td>2017-05-01 00:00:00</td>\n",
       "      <td>325</td>\n",
       "      <td>0</td>\n",
       "      <td>324</td>\n",
       "      <td>18.580934</td>\n",
       "      <td>21.582337</td>\n",
       "      <td>23.633118</td>\n",
       "      <td>23.451539</td>\n",
       "      <td>0.0</td>\n",
       "      <td>0.0</td>\n",
       "      <td>0.0</td>\n",
       "      <td>0.0</td>\n",
       "    </tr>\n",
       "    <tr>\n",
       "      <th>1</th>\n",
       "      <td>2017-05-01 00:01:00</td>\n",
       "      <td>326</td>\n",
       "      <td>0</td>\n",
       "      <td>328</td>\n",
       "      <td>18.602295</td>\n",
       "      <td>21.539612</td>\n",
       "      <td>23.558351</td>\n",
       "      <td>23.398133</td>\n",
       "      <td>0.0</td>\n",
       "      <td>0.0</td>\n",
       "      <td>0.0</td>\n",
       "      <td>0.0</td>\n",
       "    </tr>\n",
       "    <tr>\n",
       "      <th>2</th>\n",
       "      <td>2017-05-01 00:02:00</td>\n",
       "      <td>327</td>\n",
       "      <td>0</td>\n",
       "      <td>324</td>\n",
       "      <td>18.495484</td>\n",
       "      <td>21.614379</td>\n",
       "      <td>23.483581</td>\n",
       "      <td>23.323363</td>\n",
       "      <td>0.0</td>\n",
       "      <td>0.0</td>\n",
       "      <td>0.0</td>\n",
       "      <td>0.0</td>\n",
       "    </tr>\n",
       "    <tr>\n",
       "      <th>3</th>\n",
       "      <td>2017-05-01 00:03:00</td>\n",
       "      <td>338</td>\n",
       "      <td>0</td>\n",
       "      <td>325</td>\n",
       "      <td>18.474123</td>\n",
       "      <td>21.571657</td>\n",
       "      <td>23.601076</td>\n",
       "      <td>23.205871</td>\n",
       "      <td>0.0</td>\n",
       "      <td>0.0</td>\n",
       "      <td>0.0</td>\n",
       "      <td>0.0</td>\n",
       "    </tr>\n",
       "    <tr>\n",
       "      <th>4</th>\n",
       "      <td>2017-05-01 00:04:00</td>\n",
       "      <td>334</td>\n",
       "      <td>0</td>\n",
       "      <td>328</td>\n",
       "      <td>18.559570</td>\n",
       "      <td>21.560973</td>\n",
       "      <td>23.536987</td>\n",
       "      <td>23.227236</td>\n",
       "      <td>0.0</td>\n",
       "      <td>0.0</td>\n",
       "      <td>0.0</td>\n",
       "      <td>0.0</td>\n",
       "    </tr>\n",
       "  </tbody>\n",
       "</table>\n",
       "</div>"
      ],
      "text/plain": [
       "                    ts  ch1Watt  ch2Watt  ch3Watt     value1     value2  \\\n",
       "0  2017-05-01 00:00:00      325        0      324  18.580934  21.582337   \n",
       "1  2017-05-01 00:01:00      326        0      328  18.602295  21.539612   \n",
       "2  2017-05-01 00:02:00      327        0      324  18.495484  21.614379   \n",
       "3  2017-05-01 00:03:00      338        0      325  18.474123  21.571657   \n",
       "4  2017-05-01 00:04:00      334        0      328  18.559570  21.560973   \n",
       "\n",
       "      value3     value4  conflowRate  conflowSpeed  evaflowRate  evaflowSpeed  \n",
       "0  23.633118  23.451539          0.0           0.0          0.0           0.0  \n",
       "1  23.558351  23.398133          0.0           0.0          0.0           0.0  \n",
       "2  23.483581  23.323363          0.0           0.0          0.0           0.0  \n",
       "3  23.601076  23.205871          0.0           0.0          0.0           0.0  \n",
       "4  23.536987  23.227236          0.0           0.0          0.0           0.0  "
      ]
     },
     "execution_count": 3,
     "metadata": {},
     "output_type": "execute_result"
    }
   ],
   "source": [
    "fullDF.head()"
   ]
  },
  {
   "cell_type": "code",
   "execution_count": 4,
   "metadata": {
    "collapsed": false
   },
   "outputs": [],
   "source": [
    "Watt = fullDF[[\"ch1Watt\", \"ch2Watt\", \"ch3Watt\"]].as_matrix()\n",
    "Value = fullDF[[\"value1\", \"value2\", \"value3\", \"value4\"]].as_matrix()\n",
    "Conflow = fullDF[[\"conflowRate\", \"conflowSpeed\"]].as_matrix()\n",
    "Evaflow = fullDF[[\"evaflowRate\", \"evaflowSpeed\"]].as_matrix()\n",
    "Total_Watt = np.sum(Watt, axis = 1)"
   ]
  },
  {
   "cell_type": "code",
   "execution_count": 5,
   "metadata": {
    "collapsed": false
   },
   "outputs": [],
   "source": [
    "from sklearn import preprocessing"
   ]
  },
  {
   "cell_type": "code",
   "execution_count": 6,
   "metadata": {
    "collapsed": false
   },
   "outputs": [
    {
     "name": "stderr",
     "output_type": "stream",
     "text": [
      "/Users/duynguyen/anaconda/envs/python2/lib/python2.7/site-packages/sklearn/utils/validation.py:429: DataConversionWarning: Data with input dtype int64 was converted to float64 by the scale function.\n",
      "  warnings.warn(msg, _DataConversionWarning)\n"
     ]
    }
   ],
   "source": [
    "Watt_scaled = preprocessing.scale(Watt)\n",
    "Value_scaled = preprocessing.scale(Value)\n",
    "Conflow_scaled = preprocessing.scale(Conflow)\n",
    "Evaflow_scaled = preprocessing.scale(Evaflow)\n",
    "Total_Watt_scaled = preprocessing.scale(Total_Watt)"
   ]
  },
  {
   "cell_type": "code",
   "execution_count": 7,
   "metadata": {
    "collapsed": false
   },
   "outputs": [],
   "source": [
    "Hour = pd.to_datetime(fullDF.ts).dt.hour.as_matrix()\n",
    "Hour_transformed = np.zeros([num_samples,24])\n",
    "for i in range(num_samples):\n",
    "    Hour_transformed[i, Hour[i]] = 1"
   ]
  },
  {
   "cell_type": "code",
   "execution_count": 8,
   "metadata": {
    "collapsed": false
   },
   "outputs": [],
   "source": [
    "Day = pd.to_datetime(fullDF.ts).dt.day.as_matrix()\n",
    "Day_transformed = np.zeros([num_samples,31])\n",
    "for i in range(num_samples):\n",
    "    Day_transformed[i, Day[i] - 1] = 1"
   ]
  },
  {
   "cell_type": "code",
   "execution_count": 9,
   "metadata": {
    "collapsed": false
   },
   "outputs": [],
   "source": [
    "Month = pd.to_datetime(fullDF.ts).dt.month.as_matrix()\n",
    "Month_transformed = np.zeros([num_samples,12])\n",
    "for i in range(num_samples):\n",
    "    Month_transformed[i, Month[i] - 1] = 1"
   ]
  },
  {
   "cell_type": "code",
   "execution_count": 10,
   "metadata": {
    "collapsed": false
   },
   "outputs": [],
   "source": [
    "# Data = np.concatenate([Hour_transformed, Value_scaled, Conflow_scaled, Evaflow_scaled], axis =1)\n",
    "Data = np.concatenate([Value_scaled, Conflow_scaled, Evaflow_scaled], axis =1)"
   ]
  },
  {
   "cell_type": "code",
   "execution_count": 11,
   "metadata": {
    "collapsed": true
   },
   "outputs": [],
   "source": [
    "dimension = Data.shape[1]"
   ]
  },
  {
   "cell_type": "code",
   "execution_count": 12,
   "metadata": {
    "collapsed": false
   },
   "outputs": [],
   "source": [
    "Data_align = np.zeros((window_size, num_samples - window_size + 1, dimension))\n",
    "for i in range(0, window_size):\n",
    "    Data_align[i] = Data[i: num_samples - window_size + 1 + i]"
   ]
  },
  {
   "cell_type": "code",
   "execution_count": 13,
   "metadata": {
    "collapsed": false
   },
   "outputs": [],
   "source": [
    "Full_Data = Data_align.transpose((1,0,2))"
   ]
  },
  {
   "cell_type": "code",
   "execution_count": 14,
   "metadata": {
    "collapsed": false
   },
   "outputs": [],
   "source": [
    "Power = Total_Watt[:num_samples - window_size + 1].reshape((-1,1))"
   ]
  },
  {
   "cell_type": "code",
   "execution_count": 15,
   "metadata": {
    "collapsed": true
   },
   "outputs": [],
   "source": [
    "Moment = np.concatenate([np.zeros((1,1)),Power[1:] - Power[:-1]], axis = 0)"
   ]
  },
  {
   "cell_type": "code",
   "execution_count": 16,
   "metadata": {
    "collapsed": true
   },
   "outputs": [],
   "source": [
    "Force = np.concatenate([np.zeros((1,1)),Moment[1:] - Moment[:-1]], axis = 0)"
   ]
  },
  {
   "cell_type": "code",
   "execution_count": 17,
   "metadata": {
    "collapsed": false
   },
   "outputs": [
    {
     "name": "stderr",
     "output_type": "stream",
     "text": [
      "Using TensorFlow backend.\n"
     ]
    }
   ],
   "source": [
    "import keras\n",
    "from keras import layers\n",
    "from keras.layers import Lambda, Activation,recurrent, Bidirectional, Dense, Flatten, Conv1D, Dropout, LSTM, GRU, concatenate, multiply, add, Reshape, MaxPooling1D, BatchNormalization\n",
    "from keras.models import Model, load_model\n",
    "import keras.backend as K"
   ]
  },
  {
   "cell_type": "code",
   "execution_count": 18,
   "metadata": {
    "collapsed": true
   },
   "outputs": [],
   "source": [
    "def mean_pred(y_true, y_pred):\n",
    "    return K.mean(K.abs(y_pred - y_true)/(y_true + 0.01))"
   ]
  },
  {
   "cell_type": "code",
   "execution_count": 19,
   "metadata": {
    "collapsed": false
   },
   "outputs": [],
   "source": [
    "inp = layers.Input(shape=(window_size, dimension), dtype=Full_Data.dtype)"
   ]
  },
  {
   "cell_type": "code",
   "execution_count": 20,
   "metadata": {
    "collapsed": false
   },
   "outputs": [],
   "source": [
    "enc1 = LSTM(50,return_sequences=True)(inp)\n",
    "enc2 = LSTM(50,return_sequences=True)(enc1)\n",
    "flatten = Flatten()(enc2)"
   ]
  },
  {
   "cell_type": "code",
   "execution_count": 21,
   "metadata": {
    "collapsed": true
   },
   "outputs": [],
   "source": [
    "dense1 = Dense(500, activation='relu')(flatten)\n",
    "output1 = Dense(1)(dense1)"
   ]
  },
  {
   "cell_type": "code",
   "execution_count": 22,
   "metadata": {
    "collapsed": true
   },
   "outputs": [],
   "source": [
    "dense2 = Dense(500, activation='relu')(flatten)\n",
    "output2 = Dense(1)(dense2)"
   ]
  },
  {
   "cell_type": "code",
   "execution_count": 23,
   "metadata": {
    "collapsed": true
   },
   "outputs": [],
   "source": [
    "dense3 = Dense(500, activation='relu')(flatten)\n",
    "output3 = Dense(1)(dense3)"
   ]
  },
  {
   "cell_type": "code",
   "execution_count": 24,
   "metadata": {
    "collapsed": false
   },
   "outputs": [],
   "source": [
    "model = Model([inp],[output1,output2,output3])\n",
    "model.compile(optimizer='adam',\n",
    "              loss='mean_absolute_error',\n",
    "              metrics=[mean_pred])"
   ]
  },
  {
   "cell_type": "code",
   "execution_count": 25,
   "metadata": {
    "collapsed": true
   },
   "outputs": [],
   "source": [
    "test_inp = Full_Data[:40000]\n",
    "test_out1 = Power[:40000]\n",
    "test_out2 = Moment[:40000]\n",
    "test_out3 = Force[:40000]\n",
    "val_inp = Full_Data[40000:45000]\n",
    "val_out1 = Power[40000:45000]\n",
    "val_out2 = Moment[40000:45000]\n",
    "val_out3 = Force[40000:45000]"
   ]
  },
  {
   "cell_type": "code",
   "execution_count": null,
   "metadata": {
    "collapsed": false
   },
   "outputs": [
    {
     "name": "stdout",
     "output_type": "stream",
     "text": [
      "Train on 40000 samples, validate on 5000 samples\n",
      "Epoch 1/5\n",
      "  352/40000 [..............................] - ETA: 698s - loss: 42595.3358 - dense_2_loss: 40530.6143 - dense_4_loss: 799.0775 - dense_6_loss: 1265.6443 - dense_2_mean_pred: 0.9674 - dense_4_mean_pred: 32.6876 - dense_6_mean_pred: 30.8687"
     ]
    }
   ],
   "source": [
    "model.fit([test_inp], [test_out1, test_out2, test_out3],\n",
    "          epochs=5,\n",
    "          validation_data=([val_inp], [val_out1,val_out2,val_out3]))"
   ]
  },
  {
   "cell_type": "code",
   "execution_count": 78,
   "metadata": {
    "collapsed": false
   },
   "outputs": [
    {
     "name": "stdout",
     "output_type": "stream",
     "text": [
      "_________________________________________________________________\n",
      "Layer (type)                 Output Shape              Param #   \n",
      "=================================================================\n",
      "input_3 (InputLayer)         (None, 60, 8)             0         \n",
      "_________________________________________________________________\n",
      "lstm_11 (LSTM)               (None, 60, 50)            11800     \n",
      "_________________________________________________________________\n",
      "lstm_12 (LSTM)               (None, 60, 50)            20200     \n",
      "_________________________________________________________________\n",
      "flatten_5 (Flatten)          (None, 3000)              0         \n",
      "_________________________________________________________________\n",
      "dense_8 (Dense)              (None, 500)               1500500   \n",
      "_________________________________________________________________\n",
      "dense_9 (Dense)              (None, 1)                 501       \n",
      "=================================================================\n",
      "Total params: 1,533,001\n",
      "Trainable params: 1,533,001\n",
      "Non-trainable params: 0\n",
      "_________________________________________________________________\n"
     ]
    }
   ],
   "source": [
    "model.summary()"
   ]
  },
  {
   "cell_type": "code",
   "execution_count": 79,
   "metadata": {
    "collapsed": false
   },
   "outputs": [
    {
     "name": "stdout",
     "output_type": "stream",
     "text": [
      "5000/5000 [==============================] - 10s    \n"
     ]
    }
   ],
   "source": [
    "pred = model.predict(val_inp, verbose=1)"
   ]
  },
  {
   "cell_type": "code",
   "execution_count": 80,
   "metadata": {
    "collapsed": false
   },
   "outputs": [
    {
     "data": {
      "text/plain": [
       "array([[ 101593.71875  ],\n",
       "       [ 103745.1796875],\n",
       "       [ 102540.2890625],\n",
       "       ..., \n",
       "       [ 155360.453125 ],\n",
       "       [ 154467.515625 ],\n",
       "       [ 153469.109375 ]], dtype=float32)"
      ]
     },
     "execution_count": 80,
     "metadata": {},
     "output_type": "execute_result"
    }
   ],
   "source": [
    "pred"
   ]
  },
  {
   "cell_type": "code",
   "execution_count": 81,
   "metadata": {
    "collapsed": false
   },
   "outputs": [],
   "source": [
    "a = (pred - val_out)/val_out"
   ]
  },
  {
   "cell_type": "code",
   "execution_count": 89,
   "metadata": {
    "collapsed": false
   },
   "outputs": [],
   "source": [
    "b = a > 1"
   ]
  },
  {
   "cell_type": "code",
   "execution_count": 90,
   "metadata": {
    "collapsed": false
   },
   "outputs": [
    {
     "data": {
      "text/plain": [
       "0"
      ]
     },
     "execution_count": 90,
     "metadata": {},
     "output_type": "execute_result"
    }
   ],
   "source": [
    "np.sum(b)"
   ]
  },
  {
   "cell_type": "code",
   "execution_count": 96,
   "metadata": {
    "collapsed": false
   },
   "outputs": [
    {
     "data": {
      "text/plain": [
       "array([ 0.17008586])"
      ]
     },
     "execution_count": 96,
     "metadata": {},
     "output_type": "execute_result"
    }
   ],
   "source": [
    "(pred[3045]-val_out[3045])/val_out[3045]"
   ]
  },
  {
   "cell_type": "code",
   "execution_count": 94,
   "metadata": {
    "collapsed": false
   },
   "outputs": [
    {
     "data": {
      "text/plain": [
       "3045"
      ]
     },
     "execution_count": 94,
     "metadata": {},
     "output_type": "execute_result"
    }
   ],
   "source": [
    "np.argmax(pred-val_out)"
   ]
  },
  {
   "cell_type": "code",
   "execution_count": 97,
   "metadata": {
    "collapsed": false
   },
   "outputs": [
    {
     "data": {
      "text/plain": [
       "array([133016])"
      ]
     },
     "execution_count": 97,
     "metadata": {},
     "output_type": "execute_result"
    }
   ],
   "source": [
    "val_out[3045]"
   ]
  },
  {
   "cell_type": "code",
   "execution_count": 98,
   "metadata": {
    "collapsed": false
   },
   "outputs": [
    {
     "data": {
      "text/plain": [
       "array([ 155640.140625], dtype=float32)"
      ]
     },
     "execution_count": 98,
     "metadata": {},
     "output_type": "execute_result"
    }
   ],
   "source": [
    "pred[3045]"
   ]
  },
  {
   "cell_type": "code",
   "execution_count": null,
   "metadata": {
    "collapsed": true
   },
   "outputs": [],
   "source": []
  }
 ],
 "metadata": {
  "anaconda-cloud": {},
  "kernelspec": {
   "display_name": "Python [python2]",
   "language": "python",
   "name": "Python [python2]"
  },
  "language_info": {
   "codemirror_mode": {
    "name": "ipython",
    "version": 2
   },
   "file_extension": ".py",
   "mimetype": "text/x-python",
   "name": "python",
   "nbconvert_exporter": "python",
   "pygments_lexer": "ipython2",
   "version": "2.7.13"
  }
 },
 "nbformat": 4,
 "nbformat_minor": 0
}
